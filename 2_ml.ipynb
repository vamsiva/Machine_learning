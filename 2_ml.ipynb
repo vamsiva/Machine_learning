{
 "cells": [
  {
   "cell_type": "raw",
   "id": "e6a8138e-615a-4d33-bb31-42c0ada0fd5a",
   "metadata": {},
   "source": [
    "1. What is the concept of human learning? Please give two examples.\n",
    "2. What different forms of human learning are there? Are there any machine learning equivalents?\n",
    "3. What is machine learning, and how does it work? What are the key responsibilities of machine\n",
    "learning?\n",
    "4. Define the terms &quot;penalty&quot; and &quot;reward&quot; in the context of reinforcement learning.\n",
    "5. Explain the term &quot;learning as a search&quot;?\n",
    "6. What are the various goals of machine learning? What is the relationship between these and\n",
    "human learning?\n",
    "7. Illustrate the various elements of machine learning using a real-life illustration.\n",
    "8. Provide an example of the abstraction method.\n",
    "9. What is the concept of generalization? What function does it play in the machine learning\n",
    "process?\n",
    "What is classification, exactly? What are the main distinctions between classification and regression?\n",
    "11. What is regression, and how does it work? Give an example of a real-world problem that was\n",
    "solved using regression.\n",
    "12. Describe the clustering mechanism in detail.\n",
    "13. Make brief observations on two of the following topics:\n",
    "\n",
    "i. Machine learning algorithms are used\n",
    "ii. Studying under supervision\n",
    "iii. Studying without supervision\n",
    "\n",
    "iv. Reinforcement learning is a form of learning based on positive reinforcement."
   ]
  },
  {
   "cell_type": "markdown",
   "id": "014e4fd4-0826-4d16-807d-fbd5780fb5ee",
   "metadata": {},
   "source": [
    "#### 1. What is the concept of human learning? Please give two examples."
   ]
  },
  {
   "cell_type": "markdown",
   "id": "785be06a-c4ab-4bad-b715-d8930147f89a",
   "metadata": {},
   "source": [
    "Ans: Human learning is the form of learning which requires higher order mental processes like thinking, reasoning, intelligence, etc.We learn different concepts from childhood. For example:\n",
    "\n",
    "Learning through Association - Classical Conditioning.\n",
    "\n",
    "Learning through consequences – Operant Conditioning.\n",
    "\n",
    "Learning through observation – Modeling/Observational Learning."
   ]
  },
  {
   "cell_type": "markdown",
   "id": "b00736cb-d56d-479b-a90a-8e3de7ce0363",
   "metadata": {},
   "source": [
    "#### 2. What different forms of human learning are there? Are there any machine learning equivalents?"
   ]
  },
  {
   "cell_type": "markdown",
   "id": "798fc873-e5e7-44c0-aa20-6cd6953f4557",
   "metadata": {},
   "source": [
    "Ans: Different Forms of ML are as follows :\n",
    "\n",
    "Artificial Intelligence Learning Theories. Machine Learning. Reinforcement Learning. Supervised Learning. Unsupervised Learning.\n",
    "ML equivalents like Linear regression, decision trees, random forest and support vector machines are some commonly used techniques that are actually examples of supervised learning."
   ]
  },
  {
   "cell_type": "markdown",
   "id": "d98c4988-357d-4cee-a51f-da1ea699ab52",
   "metadata": {},
   "source": [
    "#### 3. What is machine learning, and how does it work? What are the key responsibilities of machine learning?"
   ]
  },
  {
   "cell_type": "markdown",
   "id": "b429d5cd-b0ab-47a0-8197-d933551b8a45",
   "metadata": {},
   "source": [
    "Ans: Machine learning is a branch of Artificial intelligence (AI) that teaches computers on how to think in a similar way to how humans do, like by Learning and improving upon past experiences.\n",
    "\n",
    "It works by exploring data and identifying patterns, and involves minimal human intervention.\n",
    "Roles and responsibilities of a machine learning engineer are:\n",
    "\n",
    "Designing ML systems.\n",
    "Researching and implementing ML algorithms and tools. Selecting appropriate data sets.\n",
    "Picking appropriate data representation methods. Identifying differences in data distribution that affects model performance. Verifying data quality."
   ]
  },
  {
   "cell_type": "markdown",
   "id": "67ded420-4d89-4839-aa57-4199326c5a11",
   "metadata": {},
   "source": [
    "#### 4. Define the terms &quot;penalty&quot; and &quot;reward&quot; in the context of reinforcement learning."
   ]
  },
  {
   "cell_type": "markdown",
   "id": "eeb52051-6073-487b-8983-b2c6543356df",
   "metadata": {},
   "source": [
    "Ans: A Reinforcement Learning Algorithm, which may also be referred to as an agent, learns by interacting with its environment. The agent receives rewards by performing correctly and penalties for performing incorrectly. The agent learns without intervention from a human by maximizing its reward and minimizing its penalty."
   ]
  },
  {
   "cell_type": "markdown",
   "id": "3ae595b9-4056-4333-874e-b8c18c71b7ae",
   "metadata": {},
   "source": [
    "#### 5. Explain the term &quot;learning as a search&quot;?"
   ]
  },
  {
   "cell_type": "markdown",
   "id": "0f337435-8f88-40fc-9b80-680fda03fd54",
   "metadata": {},
   "source": [
    "Ans: Learning can be viewed as a search through the space of all sentences in a concept description language for a sentence that best describes the data. Alternatively, it can be viewed as a search through all hypotheses in a hypothesis space."
   ]
  },
  {
   "cell_type": "markdown",
   "id": "0d304530-5c1b-49a7-8406-95cc947131d7",
   "metadata": {},
   "source": [
    "#### 6. What are the various goals of machine learning? What is the relationship between these and human learning?"
   ]
  },
  {
   "cell_type": "markdown",
   "id": "8838ec84-da69-4fd1-8360-4edc03cb99c7",
   "metadata": {},
   "source": [
    "Ans: The Goal of machine learning, closely coupled with the goal of AI, is to achieve a through understanding about the nature of learning process (both human learning and other forms of learning), about the computational aspects of learning behaviors, and to implant the learning capability in computer systems.\n",
    "\n",
    "Humans have the ability to learn, however with the progress in artificial intelligence, machine learning has become a resource which can augment or even replace human learning. Learning does not happen all at once, but it builds upon and is shaped by previous knowledge."
   ]
  },
  {
   "cell_type": "markdown",
   "id": "2c3074db-02a4-44a6-a809-3436c8162baf",
   "metadata": {},
   "source": [
    "#### 7. Illustrate the various elements of machine learning using a real-life illustration."
   ]
  },
  {
   "cell_type": "markdown",
   "id": "818ec8ee-f229-4003-9fdf-1e95026d91d8",
   "metadata": {},
   "source": [
    "Ans: The Various elements of the the Machine Learning are:\n",
    "\n",
    "Data\n",
    "\n",
    "Task\n",
    "\n",
    "Model\n",
    "\n",
    "Loss Function\n",
    "\n",
    "Learning Algorithm\n",
    "\n",
    "Evaluation"
   ]
  },
  {
   "cell_type": "markdown",
   "id": "0dbee2b1-7ee9-4a26-9215-32822f57a4a9",
   "metadata": {},
   "source": [
    "#### 8. Provide an example of the abstraction method."
   ]
  },
  {
   "cell_type": "markdown",
   "id": "9b4516eb-959a-4193-89d8-6dfab0f7ea17",
   "metadata": {},
   "source": [
    "Ans: In Machine Learning, Abstraction is supported primarily at the level of modules. This can be justified in two ways: first, Data abstraction is mostly a question of program interfaces and therefore it arises naturally at the point where we have to consider program composition and modules."
   ]
  },
  {
   "cell_type": "markdown",
   "id": "4c84c081-77a9-4239-b3a1-132d71863edb",
   "metadata": {},
   "source": [
    "#### 9. What is the concept of generalization? What function does it play in the machine learning process?"
   ]
  },
  {
   "cell_type": "markdown",
   "id": "98fe7a85-e4ee-4ddf-a64a-c0aec40df6e8",
   "metadata": {},
   "source": [
    "Ans: Generalization refers to your model's ability to adapt properly to new, previously unseen data, drawn from the same distribution as the one used to create the model."
   ]
  },
  {
   "cell_type": "markdown",
   "id": "e11e4040-fe75-464d-9322-412bd937e491",
   "metadata": {},
   "source": [
    "#### What is classification, exactly? What are the main distinctions between classification and regression?"
   ]
  },
  {
   "cell_type": "markdown",
   "id": "0ccbd1b5-83cf-4d17-9cb4-e04c366c12be",
   "metadata": {},
   "source": [
    "Ans: In Machine Learning, Classification refers to a predictive modeling problem where a class label is predicted for a given example of input data.Classification is the task of predicting a discrete class label. Whereas Regression is the task of predicting a continuous quantity."
   ]
  },
  {
   "cell_type": "markdown",
   "id": "a60886b3-2096-4bbc-a275-a416c5837c6e",
   "metadata": {},
   "source": [
    "#### 11. What is regression, and how does it work? Give an example of a real-world problem that was solved using regression."
   ]
  },
  {
   "cell_type": "markdown",
   "id": "25f0f608-cb5e-4be3-a171-39c8f485655d",
   "metadata": {},
   "source": [
    "Ans: Regression is a Supervised Machine Learning technique which is used to predict continuous values. The ultimate goal of a regression algorithm is to plot a best-fit line or a curve between the data."
   ]
  },
  {
   "cell_type": "markdown",
   "id": "590063ad-613c-45e8-8f8d-667e00eaabf9",
   "metadata": {},
   "source": [
    "#### 12. Describe the clustering mechanism in detail."
   ]
  },
  {
   "cell_type": "markdown",
   "id": "f5c68717-97f3-43cc-b2e5-6c2a48338e2c",
   "metadata": {},
   "source": [
    "Ans: Clustering is the task of dividing the population or data points into a number of groups such that data points in the same groups are more similar to other data points in the same group than those in other groups. In simple words, the aim is to segregate groups with similar traits and assign them into clusters."
   ]
  },
  {
   "cell_type": "markdown",
   "id": "4fb93482-45fa-42da-b8b0-0d77fbc88673",
   "metadata": {},
   "source": [
    "#### 13. Make brief observations on two of the following topics:\n",
    "\n",
    "i. Machine learning algorithms are used\n",
    "\n",
    "ii. Studying under supervision\n",
    "\n",
    "iii. Studying without supervision\n",
    "\n",
    "iv. Reinforcement learning is a form of learning based on positive reinforcement."
   ]
  },
  {
   "cell_type": "markdown",
   "id": "b12fd51f-49ba-4937-90de-8ec175c301fe",
   "metadata": {},
   "source": [
    "Ans: The breif observations on the following two topics is:\n",
    "\n",
    "Machine learning algorithms are used: At its Most basic, Machine Learning uses programmed algorithms that receive and analyse input data to predict output values within an acceptable range. As new data is fed to these algorithms, they learn and optimise their operations to improve performance, developing intelligence over time.\n",
    "\n",
    "Studying Under Supervision: In machine learning, there are two important categories- Supervised and Unsupervised learning.Supervised learning, an algorithm learns from a training dataset. We know the correct answers or desired output, the algorithm makes predictions using the given dataset and is corrected by the “supervisor”."
   ]
  },
  {
   "cell_type": "code",
   "execution_count": null,
   "id": "205cb54a-9897-45f6-946a-bdf0e68e4530",
   "metadata": {},
   "outputs": [],
   "source": []
  }
 ],
 "metadata": {
  "kernelspec": {
   "display_name": "Python 3 (ipykernel)",
   "language": "python",
   "name": "python3"
  },
  "language_info": {
   "codemirror_mode": {
    "name": "ipython",
    "version": 3
   },
   "file_extension": ".py",
   "mimetype": "text/x-python",
   "name": "python",
   "nbconvert_exporter": "python",
   "pygments_lexer": "ipython3",
   "version": "3.10.6"
  }
 },
 "nbformat": 4,
 "nbformat_minor": 5
}
