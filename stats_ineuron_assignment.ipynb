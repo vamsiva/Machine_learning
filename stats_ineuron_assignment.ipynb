{
 "cells": [
  {
   "cell_type": "markdown",
   "id": "2a40a6e4",
   "metadata": {},
   "source": [
    "\n",
    "1. **Scenario**: A company wants to analyze the sales performance of its products in different regions. They have collected the following data:\n",
    "\n",
    "   `\n",
    "   Region A: [10, 15, 12, 8, 14]\n",
    "   Region B: [18, 20, 16, 22, 25]\n",
    "   Calculate the mean sales for each region.`\n"
   ]
  },
  {
   "cell_type": "code",
   "execution_count": 1,
   "id": "2ed96023",
   "metadata": {},
   "outputs": [
    {
     "name": "stdout",
     "output_type": "stream",
     "text": [
      "Mean Sales for Region A: 11.8\n",
      "Mean Sales for Region B: 20.2\n"
     ]
    }
   ],
   "source": [
    "def mean_sale(data):\n",
    "    try:\n",
    "        mean =  sum(data)/len(data)\n",
    "        return mean\n",
    "    except Exception as e:\n",
    "        raise e\n",
    "\n",
    "# given data\n",
    "region_a_sales = [10, 15, 12, 8, 14]\n",
    "region_b_sales = [18, 20, 16, 22, 25]\n",
    "\n",
    "\n",
    "# Print the mean sales for each region\n",
    "print(\"Mean Sales for Region A:\", mean_sale(region_a_sales))\n",
    "print(\"Mean Sales for Region B:\", mean_sale(region_b_sales))\n"
   ]
  },
  {
   "cell_type": "markdown",
   "id": "8b48396f",
   "metadata": {},
   "source": [
    "**2.Scenario:** `A survey is conducted to measure customer satisfaction on a scale of 1 to 5. The data collected is as follows:\n",
    "   [4, 5, 2, 3, 5, 4, 3, 2, 4, 5]\n",
    "   Calculate the mode of the survey responses.`\n"
   ]
  },
  {
   "cell_type": "code",
   "execution_count": 2,
   "id": "3511a3e0",
   "metadata": {},
   "outputs": [
    {
     "name": "stdout",
     "output_type": "stream",
     "text": [
      "Mode of the survey responses: 4\n"
     ]
    }
   ],
   "source": [
    "def calculate_mode(data):\n",
    "    counts = {}\n",
    "    for value in data:\n",
    "        if value in counts:\n",
    "            counts[value] += 1\n",
    "        else:\n",
    "            counts[value] = 1\n",
    "    \n",
    "    max_count = max(counts.values())\n",
    "    modes = [value for value, count in counts.items() if count == max_count]\n",
    "    \n",
    "    if len(modes) == len(data):\n",
    "        return None \n",
    "    else:\n",
    "        return modes[0]\n",
    "\n",
    "# given Data\n",
    "survey_responses = [4, 5, 2, 3, 5, 4, 3, 2, 4, 5]\n",
    "\n",
    "# let's Calculate the mode of the survey responses\n",
    "mode = calculate_mode(survey_responses)\n",
    "\n",
    "print(\"Mode of the survey responses:\", mode)"
   ]
  },
  {
   "cell_type": "markdown",
   "id": "e5e02659",
   "metadata": {},
   "source": [
    "\n",
    "**3. Scenario:**  A company wants to compare the salaries of two departments. The salary data for Department A and Department B are as follows:\n",
    "\n",
    "    \n",
    "   `Department A: [5000, 6000, 5500, 7000]\n",
    "   Department B: [4500, 5500, 5800, 6000, 5200]\n",
    "   Calculate the median salary for each department.`\n"
   ]
  },
  {
   "cell_type": "code",
   "execution_count": 3,
   "id": "2179dd8a",
   "metadata": {},
   "outputs": [
    {
     "name": "stdout",
     "output_type": "stream",
     "text": [
      "Median Salary for Department A: 5750.0\n",
      "Median Salary for Department B: 5500\n"
     ]
    }
   ],
   "source": [
    "def calculate_median(data):\n",
    "    sorted_data = sorted(data)\n",
    "    n = len(sorted_data)\n",
    "    if n % 2 == 0:\n",
    "        return (sorted_data[n//2 - 1] + sorted_data[n//2]) / 2\n",
    "    else:\n",
    "        return sorted_data[n//2]\n",
    "\n",
    "department_a_salaries = [5000, 6000, 5500, 7000]\n",
    "department_b_salaries = [4500, 5500, 5800, 6000, 5200]\n",
    "\n",
    "# Let's Calculate median salary for each department\n",
    "median_salary_department_a = calculate_median(department_a_salaries)\n",
    "median_salary_department_b = calculate_median(department_b_salaries)\n",
    "\n",
    "# let's print the median salary for each department\n",
    "print(\"Median Salary for Department A:\", median_salary_department_a)\n",
    "print(\"Median Salary for Department B:\", median_salary_department_b)\n"
   ]
  },
  {
   "cell_type": "code",
   "execution_count": 4,
   "id": "44476a43",
   "metadata": {},
   "outputs": [
    {
     "name": "stdout",
     "output_type": "stream",
     "text": [
      "Median Salary for Department A: 5750.0\n",
      "Median Salary for Department B: 5500\n"
     ]
    }
   ],
   "source": [
    "class SalaryAnalyzer:\n",
    "    def __init__(self, department_a_salaries, department_b_salaries):\n",
    "        self.department_a_salaries = department_a_salaries\n",
    "        self.department_b_salaries = department_b_salaries\n",
    "\n",
    "    def calculate_median(self, salaries):\n",
    "        sorted_salaries = sorted(salaries)\n",
    "        n = len(sorted_salaries)\n",
    "        if n % 2 == 0:\n",
    "            median = (sorted_salaries[n//2 - 1] + sorted_salaries[n//2]) / 2\n",
    "        else:\n",
    "            median = sorted_salaries[n//2]\n",
    "        return median\n",
    "\n",
    "    def analyze_salaries(self):\n",
    "        median_a = self.calculate_median(self.department_a_salaries)\n",
    "        median_b = self.calculate_median(self.department_b_salaries)\n",
    "        return median_a, median_b\n",
    "\n",
    "\n",
    "# Example usage:\n",
    "department_a_salaries = [5000, 6000, 5500, 7000]\n",
    "department_b_salaries = [4500, 5500, 5800, 6000, 5200]\n",
    "\n",
    "analyzer = SalaryAnalyzer(department_a_salaries, department_b_salaries)\n",
    "median_a, median_b = analyzer.analyze_salaries()\n",
    "\n",
    "print(\"Median Salary for Department A:\", median_a)\n",
    "print(\"Median Salary for Department B:\", median_b)\n"
   ]
  },
  {
   "cell_type": "markdown",
   "id": "5a118b05",
   "metadata": {},
   "source": [
    "**4. Scenario:** A data analyst wants to determine the variability in the daily stock prices of a company. The data collected is as follows:\n",
    "\n",
    "   `[25.5, 24.8, 26.1, 25.3, 24.9]\n",
    "   Calculate the range of the stock prices`"
   ]
  },
  {
   "cell_type": "code",
   "execution_count": 5,
   "id": "1cecfb1a",
   "metadata": {},
   "outputs": [
    {
     "name": "stderr",
     "output_type": "stream",
     "text": [
      "C:\\Users\\lenovo\\anaconda3\\lib\\site-packages\\numpy\\_distributor_init.py:30: UserWarning: loaded more than 1 DLL from .libs:\n",
      "C:\\Users\\lenovo\\anaconda3\\lib\\site-packages\\numpy\\.libs\\libopenblas.EL2C6PLE4ZYW3ECEVIV3OXXGRN2NRFM2.gfortran-win_amd64.dll\n",
      "C:\\Users\\lenovo\\anaconda3\\lib\\site-packages\\numpy\\.libs\\libopenblas.NOIJJG62EMASZI6NYURL6JBKM4EVBGM7.gfortran-win_amd64.dll\n",
      "  warnings.warn(\"loaded more than 1 DLL from .libs:\"\n"
     ]
    },
    {
     "name": "stdout",
     "output_type": "stream",
     "text": [
      " Range of stock Price : 1.3\n"
     ]
    }
   ],
   "source": [
    "import numpy as np\n",
    "\n",
    "class stockAnalyzer:\n",
    "    def __init__(self,stock_price):\n",
    "        self.stock_prices = stock_price\n",
    "        \n",
    "    def calculate_range(self):\n",
    "        price_range = max(self.stock_prices) - min(self.stock_prices)\n",
    "        return price_range\n",
    "\n",
    "# Given data \n",
    "stock_prices = [25.5, 24.8, 26.1, 25.3, 24.9]\n",
    "\n",
    "analyzer = stockAnalyzer(stock_price=stock_prices)\n",
    "price_range = np.round(analyzer.calculate_range(),2)\n",
    "\n",
    "print(f\" Range of stock Price : {price_range}\")\n",
    "    "
   ]
  },
  {
   "cell_type": "markdown",
   "id": "4693ac75",
   "metadata": {},
   "source": [
    "**5. Scenario:** A study is conducted to compare the performance of two different teaching methods. The test scores of the students in each group are as follows:\n",
    "    `Group A: [85, 90, 92, 88, 91]\n",
    "   Group B: [82, 88, 90, 86, 87]\n",
    "   Perform a t-test to determine if there is a significant difference in the mean scores between the two groups.`\n"
   ]
  },
  {
   "cell_type": "code",
   "execution_count": 6,
   "id": "138cd01f",
   "metadata": {},
   "outputs": [
    {
     "name": "stdout",
     "output_type": "stream",
     "text": [
      "Fail to reject null hypothesis: There is no significant difference between the means.\n"
     ]
    }
   ],
   "source": [
    "import math\n",
    "\n",
    "class TTest:\n",
    "    def __init__(self, group_a, group_b):\n",
    "        self.group_a = group_a\n",
    "        self.group_b = group_b\n",
    "\n",
    "    def calculate_mean(self, data):\n",
    "        return sum(data) / len(data)\n",
    "\n",
    "    def calculate_variance(self, data):\n",
    "        mean = self.calculate_mean(data)\n",
    "        squared_diff = [(x - mean) ** 2 for x in data]\n",
    "        return sum(squared_diff) / len(data)\n",
    "\n",
    "    def calculate_t_value(self):\n",
    "        mean_a = self.calculate_mean(self.group_a)\n",
    "        mean_b = self.calculate_mean(self.group_b)\n",
    "        variance_a = self.calculate_variance(self.group_a)\n",
    "        variance_b = self.calculate_variance(self.group_b)\n",
    "        n_a = len(self.group_a)\n",
    "        n_b = len(self.group_b)\n",
    "        pooled_variance = ((n_a - 1) * variance_a + (n_b - 1) * variance_b) / (n_a + n_b - 2)\n",
    "        standard_error = math.sqrt((variance_a / n_a) + (variance_b / n_b))\n",
    "        t_value = (mean_a - mean_b) / standard_error\n",
    "        return t_value\n",
    "\n",
    "    def perform_t_test(self):\n",
    "        t_value = self.calculate_t_value()\n",
    "        df = len(self.group_a) + len(self.group_b) - 2\n",
    "        alpha = 0.05  # Significance level (e.g., 0.05 for 95% confidence interval)\n",
    "        critical_value = 2.048  # For a two-tailed test and alpha = 0.05 with df = 8\n",
    "        if abs(t_value) > critical_value:\n",
    "            return \"Reject null hypothesis: There is a significant difference between the means.\"\n",
    "        else:\n",
    "            return \"Fail to reject null hypothesis: There is no significant difference between the means.\"\n",
    "\n",
    "\n",
    "# given data\n",
    "group_a = [85, 90, 92, 88, 91]\n",
    "group_b = [82, 88, 90, 86, 87]\n",
    "\n",
    "t_test = TTest(group_a, group_b)\n",
    "result = t_test.perform_t_test()\n",
    "print(result)\n"
   ]
  },
  {
   "cell_type": "code",
   "execution_count": null,
   "id": "6fcb4ced",
   "metadata": {},
   "outputs": [],
   "source": []
  },
  {
   "cell_type": "markdown",
   "id": "d9234a9c",
   "metadata": {},
   "source": [
    "**6. Scenario:** A company wants to analyze the relationship between advertising expenditure and sales. The data collected is as follows:\n",
    "   \n",
    "   `Advertising Expenditure (in thousands): [10, 15, 12, 8, 14]\n",
    "   Sales (in thousands): [25, 30, 28, 20, 26]\n",
    "   Calculate the correlation coefficient between advertising expenditure and sales.`\n"
   ]
  },
  {
   "cell_type": "code",
   "execution_count": 7,
   "id": "fc3fed8e",
   "metadata": {},
   "outputs": [
    {
     "name": "stdout",
     "output_type": "stream",
     "text": [
      "Correlation Coefficient: 0.8757511375750133\n"
     ]
    }
   ],
   "source": [
    "class CorrelationAnalyzer:\n",
    "    def __init__(self, expenditure, sales):\n",
    "        self.expenditure = expenditure\n",
    "        self.sales = sales\n",
    "\n",
    "    def calculate_mean(self, data):\n",
    "        return sum(data) / len(data)\n",
    "\n",
    "    def calculate_covariance(self):\n",
    "        mean_expenditure = self.calculate_mean(self.expenditure)\n",
    "        mean_sales = self.calculate_mean(self.sales)\n",
    "\n",
    "        covariance = sum((x - mean_expenditure) * (y - mean_sales)\n",
    "                         for x, y in zip(self.expenditure, self.sales)) / len(self.expenditure)\n",
    "        return covariance\n",
    "\n",
    "    def calculate_standard_deviation(self, data):\n",
    "        mean = self.calculate_mean(data)\n",
    "        variance = sum((x - mean) ** 2 for x in data) / len(data)\n",
    "        return variance ** 0.5\n",
    "\n",
    "    def calculate_correlation_coefficient(self):\n",
    "        covariance = self.calculate_covariance()\n",
    "        std_expenditure = self.calculate_standard_deviation(self.expenditure)\n",
    "        std_sales = self.calculate_standard_deviation(self.sales)\n",
    "\n",
    "        correlation_coefficient = covariance / (std_expenditure * std_sales)\n",
    "        return correlation_coefficient\n",
    "\n",
    "\n",
    "# given data\n",
    "expenditure = [10, 15, 12, 8, 14]\n",
    "sales = [25, 30, 28, 20, 26]\n",
    "\n",
    "analyzer = CorrelationAnalyzer(expenditure, sales)\n",
    "correlation_coefficient = analyzer.calculate_correlation_coefficient()\n",
    "\n",
    "print(\"Correlation Coefficient:\", correlation_coefficient)\n"
   ]
  },
  {
   "cell_type": "code",
   "execution_count": null,
   "id": "82a24583",
   "metadata": {},
   "outputs": [],
   "source": []
  },
  {
   "cell_type": "code",
   "execution_count": null,
   "id": "98cdd94b",
   "metadata": {},
   "outputs": [],
   "source": []
  },
  {
   "cell_type": "code",
   "execution_count": 8,
   "id": "14a8df77",
   "metadata": {},
   "outputs": [
    {
     "name": "stdout",
     "output_type": "stream",
     "text": [
      "Standard Deviation of Heights: 7.953949089757174\n"
     ]
    }
   ],
   "source": [
    "class StandardDeviationAnalyzer:\n",
    "    def __init__(self, data):\n",
    "        self.data = data\n",
    "\n",
    "    def calculate_mean(self):\n",
    "        return sum(self.data) / len(self.data)\n",
    "\n",
    "    def calculate_variance(self):\n",
    "        mean = self.calculate_mean()\n",
    "        squared_diff = [(x - mean) ** 2 for x in self.data]\n",
    "        variance = sum(squared_diff) / len(self.data)\n",
    "        return variance\n",
    "\n",
    "    def calculate_standard_deviation(self):\n",
    "        variance = self.calculate_variance()\n",
    "        standard_deviation = variance ** 0.5\n",
    "        return standard_deviation\n",
    "\n",
    "\n",
    "# given data:\n",
    "heights = [160, 170, 165, 155, 175, 180, 170]\n",
    "\n",
    "analyzer = StandardDeviationAnalyzer(heights)\n",
    "standard_deviation = analyzer.calculate_standard_deviation()\n",
    "\n",
    "print(\"Standard Deviation of Heights:\", standard_deviation)\n"
   ]
  },
  {
   "cell_type": "code",
   "execution_count": null,
   "id": "9725c3ba",
   "metadata": {},
   "outputs": [],
   "source": []
  },
  {
   "cell_type": "markdown",
   "id": "bc8a88b4",
   "metadata": {},
   "source": [
    "\n",
    "**7. Scenario:**\n",
    "A survey is conducted to measure the heights of a group of people. The data collected is as follows:\n",
    "\n",
    "`   [160, 170, 165, 155, 175, 180, 170]\n",
    "   Calculate the standard deviation of the heights.`\n"
   ]
  },
  {
   "cell_type": "code",
   "execution_count": 9,
   "id": "096eaed1",
   "metadata": {},
   "outputs": [
    {
     "name": "stdout",
     "output_type": "stream",
     "text": [
      "Standard Deviation of Heights: 7.953949089757174\n"
     ]
    }
   ],
   "source": [
    "class StandardDeviationAnalyzer:\n",
    "    def __init__(self, data):\n",
    "        self.data = data\n",
    "\n",
    "    def calculate_mean(self):\n",
    "        return sum(self.data) / len(self.data)\n",
    "\n",
    "    def calculate_variance(self):\n",
    "        mean = self.calculate_mean()\n",
    "        squared_diff = [(x - mean) ** 2 for x in self.data]\n",
    "        variance = sum(squared_diff) / len(self.data)\n",
    "        return variance\n",
    "\n",
    "    def calculate_standard_deviation(self):\n",
    "        variance = self.calculate_variance()\n",
    "        standard_deviation = variance ** 0.5\n",
    "        return standard_deviation\n",
    "\n",
    "\n",
    "# given data:\n",
    "heights = [160, 170, 165, 155, 175, 180, 170]\n",
    "\n",
    "analyzer = StandardDeviationAnalyzer(heights)\n",
    "standard_deviation = analyzer.calculate_standard_deviation()\n",
    "\n",
    "print(\"Standard Deviation of Heights:\", standard_deviation)\n"
   ]
  },
  {
   "cell_type": "code",
   "execution_count": null,
   "id": "6495c413",
   "metadata": {},
   "outputs": [],
   "source": []
  },
  {
   "cell_type": "markdown",
   "id": "87f15d0b",
   "metadata": {},
   "source": [
    "**8. Scenario:** A company wants to analyze the relationship between employee tenure and job satisfaction. The data collected is as follows:\n",
    "   - Employee Tenure (in years): [2, 3, 5, 4, 6, 2, 4]\n",
    "   * Job Satisfaction (on a scale of 1 to 10): [7, 8, 6, 9, 5, 7, 6]\n",
    "   * Perform a linear regression analysis to predict job satisfaction based on employee tenure.\n"
   ]
  },
  {
   "cell_type": "code",
   "execution_count": 10,
   "id": "7395976b",
   "metadata": {},
   "outputs": [
    {
     "name": "stdout",
     "output_type": "stream",
     "text": [
      "Regression Coefficients:\n",
      "Slope: -0.46808510638297873\n",
      "Intercept: 8.595744680851064\n",
      "Predicted Job Satisfaction for Tenure 4: 6.723404255319149\n"
     ]
    }
   ],
   "source": [
    "class LinearRegressionAnalyzer:\n",
    "    def __init__(self, tenure, satisfaction):\n",
    "        self.tenure = tenure\n",
    "        self.satisfaction = satisfaction\n",
    "\n",
    "    def calculate_mean(self, data):\n",
    "        return sum(data) / len(data)\n",
    "\n",
    "    def calculate_covariance(self):\n",
    "        mean_tenure = self.calculate_mean(self.tenure)\n",
    "        mean_satisfaction = self.calculate_mean(self.satisfaction)\n",
    "\n",
    "        covariance = sum((x - mean_tenure) * (y - mean_satisfaction)\n",
    "                         for x, y in zip(self.tenure, self.satisfaction)) / len(self.tenure)\n",
    "        return covariance\n",
    "\n",
    "    def calculate_variance(self, data):\n",
    "        mean = self.calculate_mean(data)\n",
    "        variance = sum((x - mean) ** 2 for x in data) / len(data)\n",
    "        return variance\n",
    "\n",
    "    def calculate_regression_coefficients(self):\n",
    "        covariance = self.calculate_covariance()\n",
    "        variance_tenure = self.calculate_variance(self.tenure)\n",
    "\n",
    "        slope = covariance / variance_tenure\n",
    "        intercept = self.calculate_mean(self.satisfaction) - (slope * self.calculate_mean(self.tenure))\n",
    "\n",
    "        return slope, intercept\n",
    "\n",
    "    def predict_job_satisfaction(self, tenure):\n",
    "        slope, intercept = self.calculate_regression_coefficients()\n",
    "        predicted_satisfaction = slope * tenure + intercept\n",
    "        return predicted_satisfaction\n",
    "\n",
    "\n",
    "# Given data:\n",
    "tenure = [2, 3, 5, 4, 6, 2, 4]\n",
    "satisfaction = [7, 8, 6, 9, 5, 7, 6]\n",
    "\n",
    "analyzer = LinearRegressionAnalyzer(tenure, satisfaction)\n",
    "slope, intercept = analyzer.calculate_regression_coefficients()\n",
    "predicted_satisfaction = analyzer.predict_job_satisfaction(4)\n",
    "\n",
    "print(\"Regression Coefficients:\")\n",
    "print(\"Slope:\", slope)\n",
    "print(\"Intercept:\", intercept)\n",
    "print(\"Predicted Job Satisfaction for Tenure 4:\", predicted_satisfaction)\n"
   ]
  },
  {
   "cell_type": "code",
   "execution_count": null,
   "id": "11dbd8db",
   "metadata": {},
   "outputs": [],
   "source": []
  },
  {
   "cell_type": "markdown",
   "id": "3a53e7e5",
   "metadata": {},
   "source": [
    "**9. Scenario:**\n",
    "A study is conducted to compare the effectiveness of two different medications. The recovery times of the patients in each group are as follows:\n",
    "   * Medication A: [10, 12, 14, 11, 13]\n",
    "   * Medication B: [15, 17, 16, 14, 18]\n",
    "   * Perform an analysis of variance (ANOVA) to determine if there is a significant difference in the mean recovery times between the two medications.\n"
   ]
  },
  {
   "cell_type": "code",
   "execution_count": 11,
   "id": "5d88312b",
   "metadata": {},
   "outputs": [
    {
     "name": "stdout",
     "output_type": "stream",
     "text": [
      "Reject null hypothesis: There is a significant difference in the mean recovery times.\n"
     ]
    }
   ],
   "source": [
    "class ANOVA:\n",
    "    def __init__(self, medication_a, medication_b):\n",
    "        self.medication_a = medication_a\n",
    "        self.medication_b = medication_b\n",
    "\n",
    "    def calculate_mean(self, data):\n",
    "        return sum(data) / len(data)\n",
    "\n",
    "    def calculate_sum_of_squares(self, data):\n",
    "        mean = self.calculate_mean(data)\n",
    "        ss = sum((x - mean) ** 2 for x in data)\n",
    "        return ss\n",
    "\n",
    "    def calculate_total_sum_of_squares(self):\n",
    "        all_data = self.medication_a + self.medication_b\n",
    "        total_ss = self.calculate_sum_of_squares(all_data)\n",
    "        return total_ss\n",
    "\n",
    "    def calculate_between_group_sum_of_squares(self):\n",
    "        mean_a = self.calculate_mean(self.medication_a)\n",
    "        mean_b = self.calculate_mean(self.medication_b)\n",
    "        between_group_ss = len(self.medication_a) * ((mean_a - self.calculate_mean(self.medication_a + self.medication_b)) ** 2) + \\\n",
    "                           len(self.medication_b) * ((mean_b - self.calculate_mean(self.medication_a + self.medication_b)) ** 2)\n",
    "        return between_group_ss\n",
    "\n",
    "    def calculate_within_group_sum_of_squares(self):\n",
    "        within_group_ss = self.calculate_total_sum_of_squares() - self.calculate_between_group_sum_of_squares()\n",
    "        return within_group_ss\n",
    "\n",
    "    def calculate_mean_square(self, ss, df):\n",
    "        return ss / df\n",
    "\n",
    "    def calculate_f_value(self):\n",
    "        between_group_ss = self.calculate_between_group_sum_of_squares()\n",
    "        within_group_ss = self.calculate_within_group_sum_of_squares()\n",
    "        df_between = 1\n",
    "        df_within = len(self.medication_a) + len(self.medication_b) - 2\n",
    "        ms_between = self.calculate_mean_square(between_group_ss, df_between)\n",
    "        ms_within = self.calculate_mean_square(within_group_ss, df_within)\n",
    "        f_value = ms_between / ms_within\n",
    "        return f_value\n",
    "\n",
    "    def perform_anova(self):\n",
    "        f_value = self.calculate_f_value()\n",
    "        alpha = 0.05  # Significance level (e.g., 0.05 for 95% confidence interval)\n",
    "        critical_value = 4.256  # For alpha = 0.05 and df_between = 1, df_within = 6 with a 95% confidence level\n",
    "        if f_value > critical_value:\n",
    "            return \"Reject null hypothesis: There is a significant difference in the mean recovery times.\"\n",
    "        else:\n",
    "            return \"Fail to reject null hypothesis: There is no significant difference in the mean recovery times.\"\n",
    "\n",
    "\n",
    "# Example usage:\n",
    "medication_a = [10, 12, 14, 11, 13]\n",
    "medication_b = [15, 17, 16, 14, 18]\n",
    "\n",
    "anova = ANOVA(medication_a, medication_b)\n",
    "result = anova.perform_anova()\n",
    "print(result)\n"
   ]
  },
  {
   "cell_type": "markdown",
   "id": "49ef8dae",
   "metadata": {},
   "source": [
    "**10. Scenario:** A company wants to analyze customer feedback ratings on a scale of 1 to 10. The data collected is\n",
    "as follows:\n",
    "\n",
    "    * [8, 9, 7, 6, 8, 10, 9, 8, 7, 8]\n",
    "    Calculate the 75th percentile of the feedback ratings.\n"
   ]
  },
  {
   "cell_type": "code",
   "execution_count": 12,
   "id": "562518a4",
   "metadata": {},
   "outputs": [
    {
     "name": "stdout",
     "output_type": "stream",
     "text": [
      "75th Percentile of Feedback Ratings: 8.75\n"
     ]
    }
   ],
   "source": [
    "class PercentileAnalyzer:\n",
    "    def __init__(self, data):\n",
    "        self.data = data\n",
    "\n",
    "    def calculate_percentile(self, percentile):\n",
    "        sorted_data = sorted(self.data)\n",
    "        index = (percentile / 100) * (len(sorted_data) - 1)\n",
    "        floor_index = int(index)\n",
    "        ceiling_index = floor_index + 1\n",
    "        remainder = index - floor_index\n",
    "\n",
    "        if ceiling_index >= len(sorted_data):\n",
    "            return sorted_data[floor_index]\n",
    "        else:\n",
    "            lower_value = sorted_data[floor_index]\n",
    "            upper_value = sorted_data[ceiling_index]\n",
    "            percentile_value = lower_value + (upper_value - lower_value) * remainder\n",
    "            return percentile_value\n",
    "\n",
    "    def calculate_75th_percentile(self):\n",
    "        percentile = 75\n",
    "        percentile_value = self.calculate_percentile(percentile)\n",
    "        return percentile_value\n",
    "\n",
    "\n",
    "# giving values\n",
    "feedback_ratings = [8, 9, 7, 6, 8, 10, 9, 8, 7, 8]\n",
    "\n",
    "analyzer = PercentileAnalyzer(feedback_ratings)\n",
    "percentile_75 = analyzer.calculate_75th_percentile()\n",
    "\n",
    "print(\"75th Percentile of Feedback Ratings:\", percentile_75)\n"
   ]
  },
  {
   "cell_type": "code",
   "execution_count": null,
   "id": "60afc4dc",
   "metadata": {},
   "outputs": [],
   "source": []
  },
  {
   "cell_type": "markdown",
   "id": "9bf9dac6",
   "metadata": {},
   "source": [
    "**11. Scenario:**\n",
    "A quality control department wants to test the weight consistency of a product. The weights of a sample of products are as follows:\n",
    "  * [10.2, 9.8, 10.0, 10.5, 10.3, 10.1]\n",
    "  \n",
    "    Perform a hypothesis test to determine if the mean weight differs significantly from 10 grams.\n"
   ]
  },
  {
   "cell_type": "code",
   "execution_count": 13,
   "id": "6ae0f1d9",
   "metadata": {},
   "outputs": [
    {
     "name": "stdout",
     "output_type": "stream",
     "text": [
      "Fail to reject null hypothesis: The mean weight does not differ significantly from 10 grams.\n"
     ]
    }
   ],
   "source": [
    "import math\n",
    "\n",
    "class HypothesisTest:\n",
    "    def __init__(self, data, population_mean):\n",
    "        self.data = data\n",
    "        self.population_mean = population_mean\n",
    "\n",
    "    def calculate_sample_mean(self):\n",
    "        return sum(self.data) / len(self.data)\n",
    "\n",
    "    def calculate_sample_standard_deviation(self):\n",
    "        sample_mean = self.calculate_sample_mean()\n",
    "        squared_diff = [(x - sample_mean) ** 2 for x in self.data]\n",
    "        sample_variance = sum(squared_diff) / (len(self.data) - 1)\n",
    "        sample_standard_deviation = math.sqrt(sample_variance)\n",
    "        return sample_standard_deviation\n",
    "\n",
    "    def perform_t_test(self):\n",
    "        sample_mean = self.calculate_sample_mean()\n",
    "        sample_standard_deviation = self.calculate_sample_standard_deviation()\n",
    "        sample_size = len(self.data)\n",
    "        t_value = (sample_mean - self.population_mean) / (sample_standard_deviation / math.sqrt(sample_size))\n",
    "        df = sample_size - 1\n",
    "        alpha = 0.05  # Significance level (e.g., 0.05 for 95% confidence interval)\n",
    "        critical_value = 1.761  # For alpha = 0.05 with df = n - 1, where n is the sample size\n",
    "\n",
    "        if abs(t_value) > critical_value:\n",
    "            return \"Reject null hypothesis: The mean weight differs significantly from 10 grams.\"\n",
    "        else:\n",
    "            return \"Fail to reject null hypothesis: The mean weight does not differ significantly from 10 grams.\"\n",
    "\n",
    "\n",
    "# given data\n",
    "weights = [10.2, 9.8, 10.0, 10.5, 10.3, 10.1]\n",
    "population_mean = 10.0\n",
    "\n",
    "hypothesis_test = HypothesisTest(weights, population_mean)\n",
    "result = hypothesis_test.perform_t_test()\n",
    "print(result)\n"
   ]
  },
  {
   "cell_type": "code",
   "execution_count": null,
   "id": "8308b024",
   "metadata": {},
   "outputs": [],
   "source": []
  },
  {
   "cell_type": "markdown",
   "id": "8de3462c",
   "metadata": {},
   "source": [
    "**12. Scenario:** A company wants to analyze the click-through rates of two different website designs. The number of clicks for each design is as follows:\n",
    "\n",
    "     Design A: [100, 120, 110, 90, 95]\n",
    "     Design B: [80, 85, 90, 95, 100]\n",
    "        \n",
    "    Perform a chi-square test to determine if there is a significant difference in the click-through rates between the two designs.\n"
   ]
  },
  {
   "cell_type": "code",
   "execution_count": 14,
   "id": "3d3cefd7",
   "metadata": {},
   "outputs": [
    {
     "name": "stdout",
     "output_type": "stream",
     "text": [
      "Fail to reject null hypothesis: There is no significant difference in the click-through rates between the designs.\n"
     ]
    }
   ],
   "source": [
    "import numpy as np\n",
    "from scipy.stats import chi2_contingency\n",
    "\n",
    "class ChiSquareTest:\n",
    "    def __init__(self, design_a, design_b):\n",
    "        self.design_a = design_a\n",
    "        self.design_b = design_b\n",
    "\n",
    "    def perform_chi_square_test(self):\n",
    "        observed = np.array([self.design_a, self.design_b])\n",
    "        chi2, p, _, _ = chi2_contingency(observed)\n",
    "\n",
    "        alpha = 0.05  # Significance level (e.g., 0.05 for 95% confidence interval)\n",
    "\n",
    "        if p < alpha:\n",
    "            return \"Reject null hypothesis: There is a significant difference in the click-through rates between the designs.\"\n",
    "        else:\n",
    "            return \"Fail to reject null hypothesis: There is no significant difference in the click-through rates between the designs.\"\n",
    "\n",
    "\n",
    "design_a = [100, 120, 110, 90, 95]\n",
    "design_b = [80, 85, 90, 95, 100]\n",
    "\n",
    "chi_square_test = ChiSquareTest(design_a, design_b)\n",
    "result = chi_square_test.perform_chi_square_test()\n",
    "print(result)\n"
   ]
  },
  {
   "cell_type": "markdown",
   "id": "cce02d92",
   "metadata": {},
   "source": [
    "**13. Scenario:** A survey is conducted to measure customer satisfaction with a product on a scale of 1 to 10. The data collected is as follows:\n",
    "\n",
    "    [7, 9, 6, 8, 10, 7, 8, 9, 7, 8]\n",
    "    Calculate the 95% confidence interval for the population mean satisfaction score.\n"
   ]
  },
  {
   "cell_type": "code",
   "execution_count": 15,
   "id": "fe4c7514",
   "metadata": {},
   "outputs": [
    {
     "name": "stdout",
     "output_type": "stream",
     "text": [
      "95% Confidence Interval: (7.043561120599888, 8.756438879400113)\n"
     ]
    }
   ],
   "source": [
    "import math\n",
    "from scipy.stats import t\n",
    "\n",
    "class ConfidenceInterval:\n",
    "    def __init__(self, data):\n",
    "        self.data = data\n",
    "\n",
    "    def calculate_sample_mean(self):\n",
    "        return sum(self.data) / len(self.data)\n",
    "\n",
    "    def calculate_sample_standard_deviation(self):\n",
    "        sample_mean = self.calculate_sample_mean()\n",
    "        squared_diff = [(x - sample_mean) ** 2 for x in self.data]\n",
    "        sample_variance = sum(squared_diff) / (len(self.data) - 1)\n",
    "        sample_standard_deviation = math.sqrt(sample_variance)\n",
    "        return sample_standard_deviation\n",
    "\n",
    "    def calculate_confidence_interval(self, confidence_level):\n",
    "        sample_mean = self.calculate_sample_mean()\n",
    "        sample_standard_deviation = self.calculate_sample_standard_deviation()\n",
    "        sample_size = len(self.data)\n",
    "        t_value = self.calculate_t_value(confidence_level, sample_size)\n",
    "        margin_of_error = t_value * (sample_standard_deviation / math.sqrt(sample_size))\n",
    "        lower_bound = sample_mean - margin_of_error\n",
    "        upper_bound = sample_mean + margin_of_error\n",
    "        return lower_bound, upper_bound\n",
    "\n",
    "    def calculate_t_value(self, confidence_level, sample_size):\n",
    "        alpha = 1 - confidence_level\n",
    "        degrees_of_freedom = sample_size - 1\n",
    "        critical_value = t.ppf(1 - alpha / 2, degrees_of_freedom)\n",
    "        return critical_value\n",
    "\n",
    "# given data\n",
    "data = [7, 9, 6, 8, 10, 7, 8, 9, 7, 8]\n",
    "confidence_level = 0.95\n",
    "\n",
    "confidence_interval = ConfidenceInterval(data)\n",
    "lower_bound, upper_bound = confidence_interval.calculate_confidence_interval(confidence_level)\n",
    "\n",
    "print(\"95% Confidence Interval:\", (lower_bound, upper_bound))\n"
   ]
  },
  {
   "cell_type": "code",
   "execution_count": null,
   "id": "475154a1",
   "metadata": {},
   "outputs": [],
   "source": []
  },
  {
   "cell_type": "markdown",
   "id": "dc9ada4b",
   "metadata": {},
   "source": [
    "**14. Scenario:** A company wants to analyze the effect of temperature on product performance. The data collected is as follows:\n",
    "\n",
    "    Temperature (in degrees Celsius): [20, 22, 23, 19, 21]\n",
    "    Performance (on a scale of 1 to 10): [8, 7, 9, 6, 8]\n",
    "    Perform a simple linear regression to predict performance based on temperature.\n"
   ]
  },
  {
   "cell_type": "code",
   "execution_count": 16,
   "id": "5e9024a3",
   "metadata": {},
   "outputs": [
    {
     "name": "stdout",
     "output_type": "stream",
     "text": [
      "Intercept: -2.9000000000000004\n",
      "Slope: 0.5\n",
      "Predicted Performance for x = 22 : 8.1\n"
     ]
    }
   ],
   "source": [
    "class SimpleLinearRegression:\n",
    "    def __init__(self, x, y):\n",
    "        self.x = x\n",
    "        self.y = y\n",
    "\n",
    "    def calculate_mean(self, data):\n",
    "        return sum(data) / len(data)\n",
    "\n",
    "    def calculate_regression_coefficients(self):\n",
    "        x_mean = self.calculate_mean(self.x)\n",
    "        y_mean = self.calculate_mean(self.y)\n",
    "\n",
    "        numerator = sum((xi - x_mean) * (yi - y_mean) for xi, yi in zip(self.x, self.y))\n",
    "        denominator = sum((xi - x_mean) ** 2 for xi in self.x)\n",
    "\n",
    "        slope = numerator / denominator\n",
    "        intercept = y_mean - slope * x_mean\n",
    "\n",
    "        return intercept, slope\n",
    "\n",
    "    def predict(self, x_value):\n",
    "        intercept, slope = self.calculate_regression_coefficients()\n",
    "        y_pred = intercept + slope * x_value\n",
    "        return y_pred\n",
    "\n",
    "\n",
    "temperature = [20, 22, 23, 19, 21]\n",
    "performance = [8, 7, 9, 6, 8]\n",
    "\n",
    "regression = SimpleLinearRegression(temperature, performance)\n",
    "intercept, slope = regression.calculate_regression_coefficients()\n",
    "\n",
    "print(\"Intercept:\", intercept)\n",
    "print(\"Slope:\", slope)\n",
    "\n",
    "x_value = 22\n",
    "predicted_performance = regression.predict(x_value)\n",
    "print(\"Predicted Performance for x =\", x_value, \":\", predicted_performance)\n"
   ]
  },
  {
   "cell_type": "code",
   "execution_count": null,
   "id": "fe00f2a9",
   "metadata": {},
   "outputs": [],
   "source": []
  },
  {
   "cell_type": "markdown",
   "id": "f249fcf5",
   "metadata": {},
   "source": [
    "**15. Scenario:** A study is conducted to compare the preferences of two groups of participants. The preferences are measured on a Likert scale from 1 to 5. The data collected is as follows:\n",
    "   \n",
    "    Group A: [4, 3, 5, 2, 4]\n",
    "    Group B: [3, 2, 4, 3, 3]\n",
    "    Perform a Mann-Whitney U test to determine if there is a significant difference in the median preferences between the two groups.\n"
   ]
  },
  {
   "cell_type": "code",
   "execution_count": 17,
   "id": "5e6dd4fa",
   "metadata": {},
   "outputs": [
    {
     "name": "stdout",
     "output_type": "stream",
     "text": [
      "Reject null hypothesis: There is a significant difference in the median preferences.\n"
     ]
    }
   ],
   "source": [
    "class MannWhitneyUTest:\n",
    "    def __init__(self, group_a, group_b):\n",
    "        self.group_a = group_a\n",
    "        self.group_b = group_b\n",
    "\n",
    "    def calculate_rank(self, data):\n",
    "        sorted_data = sorted(data)\n",
    "        rank = [sorted_data.index(x) + 1 + (sorted_data.count(x) - 1) / 2 for x in data]\n",
    "        return rank\n",
    "\n",
    "    def calculate_mann_whitney_u(self):\n",
    "        rank_a = self.calculate_rank(self.group_a)\n",
    "        rank_b = self.calculate_rank(self.group_b)\n",
    "        n1 = len(self.group_a)\n",
    "        n2 = len(self.group_b)\n",
    "        u1 = n1 * n2 + (n1 * (n1 + 1)) / 2 - sum(rank_a)\n",
    "        u2 = n1 * n2 - u1\n",
    "        return min(u1, u2)\n",
    "\n",
    "    def perform_mann_whitney_u_test(self):\n",
    "        u = self.calculate_mann_whitney_u()\n",
    "        n1 = len(self.group_a)\n",
    "        n2 = len(self.group_b)\n",
    "        critical_value = self.calculate_critical_value(n1, n2)\n",
    "        if u < critical_value:\n",
    "            return \"Reject null hypothesis: There is a significant difference in the median preferences.\"\n",
    "        else:\n",
    "            return \"Fail to reject null hypothesis: There is no significant difference in the median preferences.\"\n",
    "\n",
    "    def calculate_critical_value(self, n1, n2):\n",
    "        # Critical values can be obtained from the Mann-Whitney U distribution table or using statistical functions\n",
    "        # Here, we use a simplified approximation formula for large sample sizes\n",
    "        expected_u = n1 * n2 / 2\n",
    "        expected_std = (n1 * n2 * (n1 + n2 + 1)) / 12\n",
    "        z_value = (self.calculate_mann_whitney_u() - expected_u) / math.sqrt(expected_std)\n",
    "        critical_value = abs(z_value)\n",
    "        return critical_value\n",
    "\n",
    "# Example usage:\n",
    "group_a = [4, 3, 5, 2, 4]\n",
    "group_b = [3, 2, 4, 3, 3]\n",
    "\n",
    "mann_whitney = MannWhitneyUTest(group_a, group_b)\n",
    "result = mann_whitney.perform_mann_whitney_u_test()\n",
    "print(result)\n"
   ]
  },
  {
   "cell_type": "code",
   "execution_count": null,
   "id": "cbf7f55c",
   "metadata": {},
   "outputs": [],
   "source": []
  },
  {
   "cell_type": "markdown",
   "id": "917f5927",
   "metadata": {},
   "source": [
    "**16. Scenario:** A company wants to analyze the distribution of customer ages. The data collected is as follows:\n",
    "\n",
    "    [25, 30, 35, 40, 45, 50, 55, 60, 65, 70]\n",
    "    Calculate the interquartile range (IQR) of the ages.\n"
   ]
  },
  {
   "cell_type": "code",
   "execution_count": 18,
   "id": "902f06ef",
   "metadata": {},
   "outputs": [
    {
     "name": "stdout",
     "output_type": "stream",
     "text": [
      "Interquartile Range (IQR): 30\n"
     ]
    }
   ],
   "source": [
    "def calculate_iqr(data):\n",
    "    sorted_data = sorted(data)\n",
    "    n = len(sorted_data)\n",
    "\n",
    "    # Calculate the indices for Q1 and Q3\n",
    "    q1_index = (n + 1) // 4\n",
    "    q3_index = (3 * (n + 1)) // 4\n",
    "\n",
    "    # Calculate Q1 and Q3\n",
    "    q1 = sorted_data[q1_index - 1]\n",
    "    q3 = sorted_data[q3_index - 1]\n",
    "\n",
    "    # Calculate the IQR\n",
    "    iqr = q3 - q1\n",
    "    return iqr\n",
    "\n",
    "\n",
    "data = [25, 30, 35, 40, 45, 50, 55, 60, 65, 70]\n",
    "iqr = calculate_iqr(data)\n",
    "print(\"Interquartile Range (IQR):\", iqr)\n"
   ]
  },
  {
   "cell_type": "code",
   "execution_count": null,
   "id": "3cb5dad6",
   "metadata": {},
   "outputs": [],
   "source": []
  },
  {
   "cell_type": "markdown",
   "id": "91d11ddb",
   "metadata": {},
   "source": [
    "**17. Scenario:** A study is conducted to compare the performance of three different machine learning algorithms. The accuracy scores for each algorithm are as follows:\n",
    "\n",
    "    Algorithm A: [0.85, 0.80, 0.82, 0.87, 0.83]\n",
    "    Algorithm B: [0.78, 0.82, 0.84, 0.80, 0.79]\n",
    "    Algorithm C: [0.90, 0.88, 0.89, 0.86, 0.87]\n",
    "    Perform a Kruskal-Wallis test to determine if there is a significant difference in the median accuracy scores between the algorithms.\n"
   ]
  },
  {
   "cell_type": "code",
   "execution_count": 19,
   "id": "96dd1a9a",
   "metadata": {},
   "outputs": [
    {
     "name": "stdout",
     "output_type": "stream",
     "text": [
      "Kruskal-Wallis statistic: 9.696947935368053\n",
      "p-value: 0.007840333026249539\n"
     ]
    }
   ],
   "source": [
    "from scipy.stats import kruskal\n",
    "\n",
    "# Accuracy scores for each algorithm\n",
    "algorithm_A = [0.85, 0.80, 0.82, 0.87, 0.83]\n",
    "algorithm_B = [0.78, 0.82, 0.84, 0.80, 0.79]\n",
    "algorithm_C = [0.90, 0.88, 0.89, 0.86, 0.87]\n",
    "\n",
    "# Perform Kruskal-Wallis test\n",
    "statistic, p_value = kruskal(algorithm_A, algorithm_B, algorithm_C)\n",
    "\n",
    "print(\"Kruskal-Wallis statistic:\", statistic)\n",
    "print(\"p-value:\", p_value)\n"
   ]
  },
  {
   "cell_type": "code",
   "execution_count": null,
   "id": "2e0e4101",
   "metadata": {},
   "outputs": [],
   "source": []
  },
  {
   "cell_type": "markdown",
   "id": "55d9e3ab",
   "metadata": {},
   "source": [
    "**18. Scenario:** A company wants to analyze the effect of price on sales. The data collected is as follows:\n",
    "\n",
    "    Price (in dollars): [10, 15, 12, 8, 14]\n",
    "    Sales: [100, 80, 90, 110, 95]\n",
    "    Perform a simple linear regression to predict\n",
    "\n",
    " sales based on price"
   ]
  },
  {
   "cell_type": "code",
   "execution_count": 20,
   "id": "5eff1cc7",
   "metadata": {},
   "outputs": [
    {
     "name": "stdout",
     "output_type": "stream",
     "text": [
      "Regression Equation: Sales = 136.37 + -3.51 * Price\n",
      "Intercept (Beta 0): 136.3719512195122\n",
      "Regression Coefficient (Beta 1): -3.50609756097561\n",
      "Predicted Sales for Price  13 :  90.79268292682926\n",
      "Predicted Sales for Price  9 :  104.8170731707317\n",
      "Predicted Sales for Price  11 :  97.8048780487805\n"
     ]
    }
   ],
   "source": [
    "class SimpleLinearRegression:\n",
    "    def __init__(self, x, y):\n",
    "        self.x = x\n",
    "        self.y = y\n",
    "\n",
    "    def calculate_mean(self, data):\n",
    "        return sum(data) / len(data)\n",
    "\n",
    "    def calculate_regression_coefficients(self):\n",
    "        x_mean = self.calculate_mean(self.x)\n",
    "        y_mean = self.calculate_mean(self.y)\n",
    "\n",
    "        differences_x = [xi - x_mean for xi in self.x]\n",
    "        differences_y = [yi - y_mean for yi in self.y]\n",
    "\n",
    "        sum_products = sum(d_x * d_y for d_x, d_y in zip(differences_x, differences_y))\n",
    "        sum_squared_differences_x = sum(d_x ** 2 for d_x in differences_x)\n",
    "\n",
    "        slope = sum_products / sum_squared_differences_x\n",
    "        intercept = y_mean - slope * x_mean\n",
    "\n",
    "        return intercept, slope\n",
    "\n",
    "    def predict(self, x_values):\n",
    "        intercept, slope = self.calculate_regression_coefficients()\n",
    "        y_pred = [intercept + slope * x for x in x_values]\n",
    "        return y_pred\n",
    "\n",
    "# data given\n",
    "price = [10, 15, 12, 8, 14]\n",
    "sales = [100, 80, 90, 110, 95]\n",
    "\n",
    "regression = SimpleLinearRegression(price, sales)\n",
    "intercept, slope = regression.calculate_regression_coefficients()\n",
    "\n",
    "print(\"Regression Equation: Sales = {:.2f} + {:.2f} * Price\".format(intercept, slope))\n",
    "print(\"Intercept (Beta 0):\", intercept)\n",
    "print(\"Regression Coefficient (Beta 1):\", slope)\n",
    "\n",
    "# Predicting sales for new prices\n",
    "new_prices = [13, 9, 11]\n",
    "predicted_sales = regression.predict(new_prices)\n",
    "for price, sale in zip(new_prices, predicted_sales):\n",
    "    print(\"Predicted Sales for Price \", price, \": \", sale)\n"
   ]
  },
  {
   "cell_type": "code",
   "execution_count": null,
   "id": "4b4eff1b",
   "metadata": {},
   "outputs": [],
   "source": []
  },
  {
   "cell_type": "markdown",
   "id": "84e27a03",
   "metadata": {},
   "source": [
    "**19. Scenario:** A survey is conducted to measure the satisfaction levels of customers with a new product. The data collected is as follows:\n",
    "\n",
    "    [7, 8, 9, 6, 8, 7, 9, 7, 8, 7]\n",
    "    Calculate the standard error of the mean satisfaction score.\n"
   ]
  },
  {
   "cell_type": "code",
   "execution_count": 21,
   "id": "671d5d33",
   "metadata": {},
   "outputs": [
    {
     "name": "stdout",
     "output_type": "stream",
     "text": [
      "Standard Error of the Mean: 0.3055050463303893\n"
     ]
    }
   ],
   "source": [
    "import math\n",
    "\n",
    "def calculate_standard_error(data):\n",
    "    sample_size = len(data)\n",
    "    standard_deviation = math.sqrt(sum((x - sum(data) / sample_size) ** 2 for x in data) / (sample_size - 1))\n",
    "    standard_error = standard_deviation / math.sqrt(sample_size)\n",
    "    return standard_error\n",
    "\n",
    "# Example usage:\n",
    "data = [7, 8, 9, 6, 8, 7, 9, 7, 8, 7]\n",
    "standard_error = calculate_standard_error(data)\n",
    "print(\"Standard Error of the Mean:\", standard_error)\n"
   ]
  },
  {
   "cell_type": "markdown",
   "id": "9fb00397",
   "metadata": {},
   "source": [
    "**20. Scenario:** A company wants to analyze the relationship between advertising expenditure and sales. The data collected is as follows:\n",
    "\n",
    "    Advertising Expenditure (in thousands): [10, 15, 12, 8, 14]\n",
    "    Sales (in thousands): [25, 30, 28, 20, 26]\n",
    "    Perform a multiple regression analysis to predict sales based on advertising expenditure.\n"
   ]
  },
  {
   "cell_type": "code",
   "execution_count": 22,
   "id": "55cf3f9b",
   "metadata": {},
   "outputs": [
    {
     "name": "stdout",
     "output_type": "stream",
     "text": [
      "Coefficient: 1.152439024390244\n",
      "Intercept: 12.20121951219512\n"
     ]
    }
   ],
   "source": [
    "import numpy as np\n",
    "from sklearn.linear_model import LinearRegression\n",
    "\n",
    "# Advertising Expenditure (in thousands)\n",
    "X = np.array([10, 15, 12, 8, 14]).reshape(-1, 1)\n",
    "\n",
    "# Sales (in thousands)\n",
    "y = np.array([25, 30, 28, 20, 26])\n",
    "\n",
    "# Create a linear regression model\n",
    "model = LinearRegression()\n",
    "\n",
    "# Fit the model to the data\n",
    "model.fit(X, y)\n",
    "\n",
    "# Get the coefficients and intercept\n",
    "coefficients = model.coef_\n",
    "intercept = model.intercept_\n",
    "\n",
    "print(\"Coefficient:\", coefficients[0])\n",
    "print(\"Intercept:\", intercept)\n"
   ]
  },
  {
   "cell_type": "code",
   "execution_count": null,
   "id": "be854845",
   "metadata": {},
   "outputs": [],
   "source": []
  }
 ],
 "metadata": {
  "kernelspec": {
   "display_name": "Python 3",
   "language": "python",
   "name": "python3"
  },
  "language_info": {
   "codemirror_mode": {
    "name": "ipython",
    "version": 3
   },
   "file_extension": ".py",
   "mimetype": "text/x-python",
   "name": "python",
   "nbconvert_exporter": "python",
   "pygments_lexer": "ipython3",
   "version": "3.8.8"
  }
 },
 "nbformat": 4,
 "nbformat_minor": 5
}
